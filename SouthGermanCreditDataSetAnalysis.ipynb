{
 "cells": [
  {
   "cell_type": "markdown",
   "metadata": {},
   "source": [
    "W niniejszym projekcie wykonano analizę zbioru [South German Credit Data Set](http://archive.ics.uci.edu/ml/datasets/South+German+Credit+%28UPDATE%29) pochodzącego z serwisu [UCI Machine Learning Repository](http://archive.ics.uci.edu/ml/datasets.php). Dane w tym zbiorze dotyczą problemu udzielania kredytów, a dokładniej pozwalają określić ryzyko kredytowe na podstawie danych o kredytobiorcach, takich jak: wiek, zatrudnienie czy sytuacja mieszkaniowa. Dane pochodzą z lat 1973-1975."
   ]
  },
  {
   "cell_type": "markdown",
   "metadata": {},
   "source": [
    "# Prezentacja zbioru"
   ]
  },
  {
   "cell_type": "markdown",
   "metadata": {},
   "source": [
    "Działania rozpoczęto od zaimportowania bibliotek:"
   ]
  },
  {
   "cell_type": "code",
   "execution_count": null,
   "metadata": {},
   "outputs": [],
   "source": [
    "import pandas as pd\n",
    "import numpy as np\n",
    "import matplotlib.pyplot as plt\n",
    "import seaborn as sns\n",
    "from jupyter_dash import JupyterDash\n",
    "from dash.dependencies import Input, Output\n",
    "import dash_core_components as dcc\n",
    "import dash_daq as daq\n",
    "import dash_html_components as html\n",
    "import plotly.express as px\n",
    "from sklearn.model_selection import train_test_split\n",
    "from sklearn.naive_bayes import GaussianNB\n",
    "from sklearn.tree import DecisionTreeClassifier\n",
    "from sklearn.neighbors import KNeighborsClassifier\n",
    "from sklearn.metrics import classification_report, accuracy_score\n",
    "\n",
    "sns.set_theme(style='darkgrid')\n",
    "JupyterDash.infer_jupyter_proxy_config()"
   ]
  },
  {
   "cell_type": "markdown",
   "metadata": {},
   "source": [
    "Następnie, wczytano zbiór danych, w którym separatorem jest spacja:"
   ]
  },
  {
   "cell_type": "code",
   "execution_count": null,
   "metadata": {},
   "outputs": [],
   "source": [
    "df = pd.read_table('data/SouthGermanCredit.asc', sep=' ')"
   ]
  },
  {
   "cell_type": "markdown",
   "metadata": {},
   "source": [
    "Jako, że w zbiorze zostały wykorzystane niemieckie nazwy kolumn, postanowiono zamienić je na angielskie odpowiedniki, które były zawarte w dokumentacji zbioru:"
   ]
  },
  {
   "cell_type": "code",
   "execution_count": null,
   "metadata": {},
   "outputs": [],
   "source": [
    "df.rename(columns={\n",
    "    'laufkont': 'status',\n",
    "    'laufzeit': 'duration',\n",
    "    'moral': 'credit_history',\n",
    "    'verw': 'purpose',\n",
    "    'hoehe': 'amount',\n",
    "    'sparkont': 'savings',\n",
    "    'beszeit': 'employment_duration',\n",
    "    'rate': 'installment_rate',\n",
    "    'famges': 'personal_status_sex',\n",
    "    'buerge': 'other_debtors',\n",
    "    'wohnzeit': 'present_residence',\n",
    "    'verm': 'property',\n",
    "    'alter': 'age',\n",
    "    'weitkred': 'other_installment_plans',\n",
    "    'wohn': 'housing',\n",
    "    'bishkred': 'number_credits',\n",
    "    'beruf': 'job',\n",
    "    'pers': 'people_liable',\n",
    "    'telef': 'telephone',\n",
    "    'gastarb': 'foreign_worker',\n",
    "    'kredit': 'credit_risk'\n",
    "}, inplace=True)"
   ]
  },
  {
   "cell_type": "markdown",
   "metadata": {},
   "source": [
    "Podgląd pierwszych pięciu rekordów:"
   ]
  },
  {
   "cell_type": "code",
   "execution_count": null,
   "metadata": {
    "scrolled": true
   },
   "outputs": [],
   "source": [
    "df.head()"
   ]
  },
  {
   "cell_type": "markdown",
   "metadata": {},
   "source": [
    "Zbiór składa się z 1000 wierszy i 21 kolumn:"
   ]
  },
  {
   "cell_type": "code",
   "execution_count": null,
   "metadata": {
    "scrolled": true
   },
   "outputs": [],
   "source": [
    "df.shape"
   ]
  },
  {
   "cell_type": "markdown",
   "metadata": {},
   "source": [
    "Statystyka podsumowująca zbiór:"
   ]
  },
  {
   "cell_type": "code",
   "execution_count": null,
   "metadata": {},
   "outputs": [],
   "source": [
    "df.describe()"
   ]
  },
  {
   "cell_type": "markdown",
   "metadata": {},
   "source": [
    "W zbiorze nie występują brakujące wartości:"
   ]
  },
  {
   "cell_type": "code",
   "execution_count": null,
   "metadata": {
    "scrolled": false
   },
   "outputs": [],
   "source": [
    "df.isnull().any()"
   ]
  },
  {
   "cell_type": "markdown",
   "metadata": {},
   "source": [
    "# Analiza wartości na poszczególnych kolumnach"
   ]
  },
  {
   "cell_type": "markdown",
   "metadata": {},
   "source": [
    "Jako, że ten zbiór składa się w większości z danych jakościowych, wartości te zostały zapisane w zbiorze (przez autora zbioru) za pomocą odpowiadających im kluczy, w postaci kolejnych liczb naturalnych, a ich znaczenie zostało opisane osobno dla każdej kolumny poniżej.\n",
    "\n",
    "Atrybutem decyzyjnym w tym zbiorze jest `credit_risk`, który przyjmuje jedną z dwóch wartości: `0` albo `1`. Pierwsza oznacza, że klient przestrzegał ustaleń i należycie spłacał zadłużenie, a druga, że nie przestrzegał ustaleń i występowały problemy ze spłatą zadłużenia."
   ]
  },
  {
   "cell_type": "markdown",
   "metadata": {},
   "source": [
    "## 1. Kolumna `status`"
   ]
  },
  {
   "cell_type": "markdown",
   "metadata": {},
   "source": [
    "Na kolumnie `status` przechowywane są informacje na temat rachunków rozliczeniowych kredytobiorców. Znaczenie poszczególnych wartości:\n",
    "\n",
    "* **1** - brak konta rozliczeniowego,\n",
    "* **2** - mniej niż 0 DM\\* na koncie rozliczeniowym,\n",
    "* **3** - 0 DM lub więcej, ale mniej niż 200 DM na koncie rozliczeniowym,\n",
    "* **4** - więcej niż 200 DM na koncie rozliczeniowym albo pensja od co najmniej roku.\n",
    "\n",
    "\\* DM - Deutsche Mark - marka niemiecka (waluta)"
   ]
  },
  {
   "cell_type": "markdown",
   "metadata": {},
   "source": [
    "Wartości na tej kolumnie nie wymagają czyszczenia, ponieważ wszystkie należą do zbioru wyżej opisanych wartości:"
   ]
  },
  {
   "cell_type": "code",
   "execution_count": null,
   "metadata": {},
   "outputs": [],
   "source": [
    "np.logical_not(df['status'].isin([1, 2, 3, 4])).any()"
   ]
  },
  {
   "cell_type": "markdown",
   "metadata": {},
   "source": [
    "Po analizie powiązań między wartościami na kolumnie `status`, a ryzykiem kredytowym można wysnuć wniosek, że im więcej pieniędzy na koncie rozliczeniowym posiadał klient, tym miał większe problemy ze spłatą zadłużenia (wyjątkiem jest tutaj sytuacja kiedy klient posiadał 0 DM lub więcej, ale mniej niż 200 DM na koncie rozliczeniowym - wynika to raczej z mniejszej liczby rekordów o tej wartości)."
   ]
  },
  {
   "cell_type": "code",
   "execution_count": null,
   "metadata": {
    "scrolled": false
   },
   "outputs": [],
   "source": [
    "plt.figure(figsize=(7, 5))\n",
    "plot = sns.countplot(data=df, x='status', hue='credit_risk')\n",
    "plt.ylabel('Liczba przypadków')\n",
    "for rectangle in plot.patches:\n",
    "    plot.text(rectangle.get_x() + rectangle.get_width() / 2, rectangle.get_height() + 0.75, rectangle.get_height(), horizontalalignment='center', fontsize=10)"
   ]
  },
  {
   "cell_type": "markdown",
   "metadata": {},
   "source": [
    "## 2. Kolumna `duration`"
   ]
  },
  {
   "cell_type": "markdown",
   "metadata": {},
   "source": [
    "Na kolumnie `duration` przechowywane są informacje o długości spłaty zadłużenia kredytobiorców, wyrażone w liczbie miesięcy. Wartości należą do przedziału `[4, 72]`."
   ]
  },
  {
   "cell_type": "markdown",
   "metadata": {},
   "source": [
    "Wartości na tej kolumnie nie wymagają czyszczenia, ponieważ wszystkie należą do wyżej wymienionego przedziału:"
   ]
  },
  {
   "cell_type": "code",
   "execution_count": null,
   "metadata": {
    "scrolled": true
   },
   "outputs": [],
   "source": [
    "np.logical_not(df['duration'].between(4, 73)).any()"
   ]
  },
  {
   "cell_type": "markdown",
   "metadata": {},
   "source": [
    "Poniżej umieszczono wykres przedstawiający liczbę zaciągniętych kredytów względem długości spłaty zadłużenia (wartości wyrażone w liczbie miesięcy). Najpopularniejszym wyborem okazało się zobowiązanie na czas do 12 miesięcy. Można także zauważyć, że im dłuższy czas spłaty zobowiązania tym mniejsze zainteresowanie kredytobiorców."
   ]
  },
  {
   "cell_type": "code",
   "execution_count": null,
   "metadata": {},
   "outputs": [],
   "source": [
    "data = df['duration'].value_counts(bins=pd.interval_range(start=4, freq=8.5, end=72), sort=False)\n",
    "\n",
    "indexes = data.index\n",
    "values = data.values\n",
    "x_positions = np.arange(len(indexes))\n",
    "\n",
    "plt.figure(figsize=(7, 5))\n",
    "plt.title('Popularność długości czasu spłaty kredytów')\n",
    "plt.xlabel('Czas spłaty kredytu (w miesiącach)')\n",
    "plt.ylabel('Liczba kredytów')\n",
    "plt.bar(x_positions, values)\n",
    "plt.xticks(x_positions, indexes, rotation=90)\n",
    "plt.show()"
   ]
  },
  {
   "cell_type": "markdown",
   "metadata": {},
   "source": [
    "## 3. Kolumna `credit_history`"
   ]
  },
  {
   "cell_type": "markdown",
   "metadata": {},
   "source": [
    "Na kolumnie `credit_history` zawarte są informacje o historiach kredytowych kredytobiorców. Znaczenie poszczególnych wartości:\n",
    "\n",
    "* **0** - opóźnienia w spłacie w przeszłości,\n",
    "* **1** - konto krytyczne / kredyt w innym miejscu,\n",
    "* **2** - brak zaciągniętych kredytów,\n",
    "* **3** - dotychczasowe kredyty spłacane należycie,\n",
    "* **4** - wszystkie kredyty w tym banku spłacone należycie."
   ]
  },
  {
   "cell_type": "markdown",
   "metadata": {},
   "source": [
    "Wartości na tej kolumnie nie wymagają czyszczenia, ponieważ wszystkie należą do zbioru wyżej opisanych wartości:"
   ]
  },
  {
   "cell_type": "code",
   "execution_count": null,
   "metadata": {},
   "outputs": [],
   "source": [
    "np.logical_not(df['credit_history'].isin([0, 1, 2, 3, 4])).any()"
   ]
  },
  {
   "cell_type": "markdown",
   "metadata": {},
   "source": [
    "Analizując powiązania pomiędzy danymi na kolumnie `credit_history`, a ryzykiem kredytowym można zauważyć, że największe problemy ze spłatą kredytu mieli klienci, którzy wcześniej nie zaciągali kredytów. Zaskakująca może być także informacja, że często występowały też problemy z klientami, którzy do tej pory spłacali swoje zobowiązania bez zarzutów."
   ]
  },
  {
   "cell_type": "code",
   "execution_count": null,
   "metadata": {
    "scrolled": false
   },
   "outputs": [],
   "source": [
    "plt.figure(figsize=(7, 5))\n",
    "plot = sns.countplot(data=df, x='credit_history', hue='credit_risk')\n",
    "plt.ylabel('Liczba przypadków')\n",
    "for rectangle in plot.patches:\n",
    "    plot.text(rectangle.get_x() + rectangle.get_width() / 2, rectangle.get_height() + 0.75, rectangle.get_height(), horizontalalignment='center', fontsize=10)    "
   ]
  },
  {
   "cell_type": "markdown",
   "metadata": {},
   "source": [
    "## 4. Kolumna `purpose`"
   ]
  },
  {
   "cell_type": "markdown",
   "metadata": {},
   "source": [
    "Na kolumnie `purpose` zawarte są informacje o celach, na które zaciągano kredyt. Znaczenie poszczególnych wartości:\n",
    "\n",
    "* **0** - inne,\n",
    "* **1** - samochód z salonu,\n",
    "* **2** - samochód używany,\n",
    "* **3** - meble/wyposażenie,\n",
    "* **4** - radio/telewizor,\n",
    "* **5** - sprzęt gospodarstwa domowego,\n",
    "* **6** - remont,\n",
    "* **7** - edukacja,\n",
    "* **8** - wakacje,\n",
    "* **9** - przekwalifikowanie,\n",
    "* **10** - biznes."
   ]
  },
  {
   "cell_type": "markdown",
   "metadata": {},
   "source": [
    "Wartości na tej kolumnie nie wymagają czyszczenia, ponieważ wszystkie należą do zbioru wyżej opisanych wartości:"
   ]
  },
  {
   "cell_type": "code",
   "execution_count": null,
   "metadata": {},
   "outputs": [],
   "source": [
    "np.logical_not(df['purpose'].isin([0, 1, 2, 3, 4, 5, 6, 7, 8, 9, 10])).any()"
   ]
  },
  {
   "cell_type": "markdown",
   "metadata": {},
   "source": [
    "Po analizie danych na kolumnie `purpose` można zauważyć, że trzema najczęstszymi powodami zaciągnięcia kredytu były: kupno mebli/wyposażenia, kupno samochodu używanego oraz inne. Trzema najrzadszymi powodami zaciągnięcia kredytu były: wakacje, kupno radia/telewizora oraz biznes."
   ]
  },
  {
   "cell_type": "code",
   "execution_count": null,
   "metadata": {},
   "outputs": [],
   "source": [
    "plt.figure(figsize=(7, 5))\n",
    "plot = sns.countplot(data=df, x='purpose')\n",
    "plt.ylabel('Liczba przypadków')\n",
    "for rectangle in plot.patches:\n",
    "    plot.text(rectangle.get_x() + rectangle.get_width() / 2, rectangle.get_height() + 0.75, rectangle.get_height(), horizontalalignment='center', fontsize=10)    "
   ]
  },
  {
   "cell_type": "markdown",
   "metadata": {},
   "source": [
    "## 5. Kolumna `amount`"
   ]
  },
  {
   "cell_type": "markdown",
   "metadata": {},
   "source": [
    "Na kolumnie `amount` zawarte są informacje o wysokości kredytów wyrażone w markach niemieckich (DM)."
   ]
  },
  {
   "cell_type": "markdown",
   "metadata": {},
   "source": [
    "Poniżej umieszczono wykres przedstawiający popularność kwot kredytów. Można zauważyć, że najwięcej kredytów udzielono na kwoty do ok. 2500 DM, popularne były także kredyty powyżej ok. 2500 DM do ok. 5000 DM. Wyższe kwoty były zdecydowanie mniej popularne."
   ]
  },
  {
   "cell_type": "code",
   "execution_count": null,
   "metadata": {},
   "outputs": [],
   "source": [
    "data = df['amount'].value_counts(bins=pd.interval_range(start=250, freq=2271.75, end=18424), sort=False)\n",
    "\n",
    "indexes = data.index\n",
    "values = data.values\n",
    "y_positions = np.arange(len(values))\n",
    "\n",
    "plt.figure(figsize=(7, 5))\n",
    "plt.title('Liczba udzielonych kredytów z podziałem na kwoty')\n",
    "plt.xlabel('Liczba kredytów')\n",
    "plt.ylabel('Kwota kredytu')\n",
    "plt.barh(y_positions, values)\n",
    "plt.gca().invert_yaxis()\n",
    "plt.yticks(y_positions, indexes)\n",
    "plt.show()"
   ]
  },
  {
   "cell_type": "markdown",
   "metadata": {},
   "source": [
    "## 6. Kolumna `savings`"
   ]
  },
  {
   "cell_type": "markdown",
   "metadata": {},
   "source": [
    "Na kolumnie `savings` zawarte są informacje o oszczędnościach kredytobiorców. Znaczenia poszczególnych wartości:\n",
    "\n",
    "* **1** - brak danych / brak oszczędności\n",
    "* **2** - poniżej 100 DM\\*,\n",
    "* **3** - od 100 DM do 500 DM,\n",
    "* **4** - od 500 DM do 1000 DM,\n",
    "* **5** - powyżej 1000 DM.\n",
    "\n",
    "\n",
    "\\* DM - Deutsche Mark - marka niemiecka (waluta)"
   ]
  },
  {
   "cell_type": "markdown",
   "metadata": {},
   "source": [
    "Wartości na tej kolumnie nie wymagają czyszczenia, ponieważ wszystkie należą do zbioru wyżej opisanych wartości:"
   ]
  },
  {
   "cell_type": "code",
   "execution_count": null,
   "metadata": {},
   "outputs": [],
   "source": [
    "np.logical_not(df['savings'].isin([1, 2, 3, 4, 5])).any()"
   ]
  },
  {
   "cell_type": "markdown",
   "metadata": {},
   "source": [
    "Po analize danych z kolumny `savings` można zauważyć, że największe problemy ze spłatą zadłużenia mieli klienci, którzy nie mieli żadnych oszczędności. Zaskakująca może być także informacja, że dość dużo, bo aż 151 klientów, którzy posiadali ponad 1000 DM oszczędności, mieli problemy ze spłatą zadłużenia."
   ]
  },
  {
   "cell_type": "code",
   "execution_count": null,
   "metadata": {},
   "outputs": [],
   "source": [
    "plt.figure(figsize=(7, 5))\n",
    "plot = sns.countplot(data=df, x='savings', hue='credit_risk')\n",
    "plt.ylabel('Liczba przypadków')\n",
    "for rectangle in plot.patches:\n",
    "    plot.text(rectangle.get_x() + rectangle.get_width() / 2, rectangle.get_height() + 0.75, rectangle.get_height(), horizontalalignment='center', fontsize=10)    "
   ]
  },
  {
   "cell_type": "markdown",
   "metadata": {},
   "source": [
    "## 7. Kolumna `employment_duration`"
   ]
  },
  {
   "cell_type": "markdown",
   "metadata": {},
   "source": [
    "Na kolumnie `employment_duration` zawarte są informacje o długości zatrudnienia kredytobiorców u ówczesnego pracodawcy. Znaczenia poszczególnych wartości:\n",
    "\n",
    "* **1** - bezrobotny,\n",
    "* **2** - poniżej roku,\n",
    "* **3** - od roku do 4 lat,\n",
    "* **4** - od 4 do 7 lat,\n",
    "* **5** - powyżej 7 lat."
   ]
  },
  {
   "cell_type": "markdown",
   "metadata": {},
   "source": [
    "Wartości na tej kolumnie nie wymagają czyszczenia, ponieważ wszystkie należą do zbioru wyżej opisanych wartości:"
   ]
  },
  {
   "cell_type": "code",
   "execution_count": null,
   "metadata": {},
   "outputs": [],
   "source": [
    "np.logical_not(df['employment_duration'].isin([1, 2, 3, 4, 5])).any()"
   ]
  },
  {
   "cell_type": "markdown",
   "metadata": {},
   "source": [
    "Po analizie danych na kolumnie `employment_duration` można zauważyć, że największe problemy ze spłatą zadłużenia mieli klienci, którzy pracowali u ówczesnego pracodawcy od roku do 4 lat. Można także zauważyć, że najmniejsze problemy występowały z klientami bezrobotnymi, ale wynika to raczej z małej liczby takich klientów."
   ]
  },
  {
   "cell_type": "code",
   "execution_count": null,
   "metadata": {},
   "outputs": [],
   "source": [
    "plt.figure(figsize=(7, 5))\n",
    "plot = sns.countplot(data=df, x='employment_duration', hue='credit_risk')\n",
    "plt.ylabel('Liczba przypadków')\n",
    "for rectangle in plot.patches:\n",
    "    plot.text(rectangle.get_x() + rectangle.get_width() / 2, rectangle.get_height() + 0.75, rectangle.get_height(), horizontalalignment='center', fontsize=10)    "
   ]
  },
  {
   "cell_type": "markdown",
   "metadata": {},
   "source": [
    "## 8. Kolumna `installment_rate`"
   ]
  },
  {
   "cell_type": "markdown",
   "metadata": {},
   "source": [
    "Na kolumnie `installment_rate` zawarte są informacje o wysokości miesięcznych rat wyrażone jako procent od pensji kredytobiorców. Znaczenia poszczególnych wartości:\n",
    "\n",
    "* **1** - >= 35%,\n",
    "* **2** - 25% <= ... < 35%,\n",
    "* **3** - 20% <= ... < 25%,\n",
    "* **4** - < 20%."
   ]
  },
  {
   "cell_type": "markdown",
   "metadata": {},
   "source": [
    "Wartości na tej kolumnie nie wymagają czyszczenia, ponieważ wszystkie należą do zbioru wyżej opisanych wartości:"
   ]
  },
  {
   "cell_type": "code",
   "execution_count": null,
   "metadata": {},
   "outputs": [],
   "source": [
    "np.logical_not(df['installment_rate'].isin([1, 2, 3, 4])).any()"
   ]
  },
  {
   "cell_type": "markdown",
   "metadata": {},
   "source": [
    "Analiza danych na kolumnie `installment_rate` doprowadziła do powstania zaskakującego wniosku: największe problemy ze spłatą zadłużenia mieli klienci, u których miesięczna rata kredytu stanowiła mniej niż 20% pensji. U klientów, u których rata kredytu stanowi więcej niż 20% pensji występowały mniejsze problemy ze spłatą zadłużenia."
   ]
  },
  {
   "cell_type": "code",
   "execution_count": null,
   "metadata": {},
   "outputs": [],
   "source": [
    "plt.figure(figsize=(7, 5))\n",
    "plot = sns.countplot(data=df, x='installment_rate', hue='credit_risk')\n",
    "plt.ylabel('Liczba przypadków')\n",
    "for rectangle in plot.patches:\n",
    "    plot.text(rectangle.get_x() + rectangle.get_width() / 2, rectangle.get_height() + 0.75, rectangle.get_height(), horizontalalignment='center', fontsize=10)    "
   ]
  },
  {
   "cell_type": "markdown",
   "metadata": {},
   "source": [
    "## 9. Kolumna `personal_status_sex`"
   ]
  },
  {
   "cell_type": "markdown",
   "metadata": {},
   "source": [
    "Na kolumnie `personal_status_sex` zawarte są informacje o płci i statusie matrymonialnym kredytobiorców. Znaczenie poszczególnych wartości:\n",
    "\n",
    "* **1** - mężczyzna: rozwiedziony/w separacji,\n",
    "* **2** - kobieta: nie samotna/mężczyzna: samotny,\n",
    "* **3** - mężczyzna: żonaty/wdowiec,              \n",
    "* **4** - kobieta: samotna."
   ]
  },
  {
   "cell_type": "markdown",
   "metadata": {},
   "source": [
    "Wartości na tej kolumnie nie wymagają czyszczenia, ponieważ wszystkie należą do zbioru wyżej opisanych wartości:"
   ]
  },
  {
   "cell_type": "code",
   "execution_count": null,
   "metadata": {},
   "outputs": [],
   "source": [
    "np.logical_not(df['personal_status_sex'].isin([1, 2, 3, 4])).any()"
   ]
  },
  {
   "cell_type": "markdown",
   "metadata": {},
   "source": [
    "Po analizie wartości na kolumnie `personal_status_sex` okazało się, że największe problemy ze spłatą zadłużenia mieli mężczyźni, którzy byli żonaci albo byli wdowcami. Często problemy występowały także z nie samotnymi kobietami."
   ]
  },
  {
   "cell_type": "code",
   "execution_count": null,
   "metadata": {},
   "outputs": [],
   "source": [
    "plt.figure(figsize=(7, 5))\n",
    "plot = sns.countplot(data=df, x='personal_status_sex', hue='credit_risk')\n",
    "plt.ylabel('Liczba przypadków')\n",
    "for rectangle in plot.patches:\n",
    "    plot.text(rectangle.get_x() + rectangle.get_width() / 2, rectangle.get_height() + 0.75, rectangle.get_height(), horizontalalignment='center', fontsize=10)    "
   ]
  },
  {
   "cell_type": "markdown",
   "metadata": {},
   "source": [
    "W przypadku tej kolumny postanowiono wyodrębnić dodatkowe informacje na temat płci kredytobiorców do osobnej kolumny (oznaczenia: 0 - mężczyzna, 1 - kobieta):"
   ]
  },
  {
   "cell_type": "code",
   "execution_count": null,
   "metadata": {
    "scrolled": true
   },
   "outputs": [],
   "source": [
    "df['sex'] = np.where(df['personal_status_sex'].isin([1, 3]), 0, 1)"
   ]
  },
  {
   "cell_type": "markdown",
   "metadata": {},
   "source": [
    "Poniżej przedstawiono wykres kołowy przedstawiający udział płci kredytobiorców. Wśród kredytobiorców więcej było mężczyzn, bo prawie 60%. Kobiety stanowiły 40%."
   ]
  },
  {
   "cell_type": "code",
   "execution_count": null,
   "metadata": {},
   "outputs": [],
   "source": [
    "data = df['sex'].value_counts().rename(index={0: 'Mężczyżni', 1: 'Kobiety'})\n",
    "\n",
    "indexes = data.index\n",
    "values = data.values\n",
    "\n",
    "plt.figure(figsize=(7, 5))\n",
    "plt.title('Procentowy udział płci kredytobiorców')\n",
    "plt.pie(values, labels=indexes, autopct='%1.2f%%')\n",
    "plt.axis('equal')\n",
    "plt.show()"
   ]
  },
  {
   "cell_type": "markdown",
   "metadata": {},
   "source": [
    "## 10. Kolumna `other_debtors`"
   ]
  },
  {
   "cell_type": "markdown",
   "metadata": {},
   "source": [
    "Na kolumnie `other_debtors` zawarte są informacje o powiązanych dłużnikach. Znaczenie poszczególnych wartości:\n",
    "\n",
    "* **1** - brak,\n",
    "* **2** - współwnioskodawca,\n",
    "* **3** - żyrant."
   ]
  },
  {
   "cell_type": "markdown",
   "metadata": {},
   "source": [
    "Wartości na tej kolumnie nie wymagają czyszczenia, ponieważ wszystkie należą do zbioru wyżej opisanych wartości:"
   ]
  },
  {
   "cell_type": "code",
   "execution_count": null,
   "metadata": {},
   "outputs": [],
   "source": [
    "np.logical_not(df['other_debtors'].isin([1, 2, 3])).any()"
   ]
  },
  {
   "cell_type": "markdown",
   "metadata": {},
   "source": [
    "Można zauważyć, że większość kredytów była związana z tylko jedną osobą (bez współwnioskodawców czy żyrantów). Pozostałe przypadki występowały rzadko."
   ]
  },
  {
   "cell_type": "code",
   "execution_count": null,
   "metadata": {},
   "outputs": [],
   "source": [
    "plt.figure(figsize=(7, 5))\n",
    "plot = sns.countplot(data=df, x='other_debtors')\n",
    "plt.ylabel('Liczba przypadków')\n",
    "for rectangle in plot.patches:\n",
    "    plot.text(rectangle.get_x() + rectangle.get_width() / 2, rectangle.get_height() + 0.75, rectangle.get_height(), horizontalalignment='center', fontsize=10)    "
   ]
  },
  {
   "cell_type": "markdown",
   "metadata": {},
   "source": [
    "## 11. Kolumna `present_residence`"
   ]
  },
  {
   "cell_type": "markdown",
   "metadata": {},
   "source": [
    "Na kolumnie `present_residence` zawarte są informacje o czasie zamieszkania w ówczesnym miejscu zamieszkania kredytobiorców. Znaczenie poszczególnych wartości:\n",
    "\n",
    "* **1** - mniej niż rok,\n",
    "* **2** - od roku do 4 lat,\n",
    "* **3** - od 4 do 7 lat,\n",
    "* **4** - powyżej 7 lat."
   ]
  },
  {
   "cell_type": "markdown",
   "metadata": {},
   "source": [
    "Wartości na tej kolumnie nie wymagają czyszczenia, ponieważ wszystkie należą do zbioru wyżej opisanych wartości:"
   ]
  },
  {
   "cell_type": "code",
   "execution_count": null,
   "metadata": {},
   "outputs": [],
   "source": [
    "np.logical_not(df['present_residence'].isin([1, 2, 3, 4])).any()"
   ]
  },
  {
   "cell_type": "markdown",
   "metadata": {},
   "source": [
    "Analiza danych na kolumnie `present_residence` wykazała, że im dłużej klient mieszkał w danym miejscu, tym większe było prawdopodobieństwo problemów ze spłatą zadłużenia."
   ]
  },
  {
   "cell_type": "code",
   "execution_count": null,
   "metadata": {},
   "outputs": [],
   "source": [
    "plt.figure(figsize=(7, 5))\n",
    "plot = sns.countplot(data=df, x='present_residence', hue='credit_risk')\n",
    "plt.ylabel('Liczba przypadków')\n",
    "for rectangle in plot.patches:\n",
    "    plot.text(rectangle.get_x() + rectangle.get_width() / 2, rectangle.get_height() + 0.75, rectangle.get_height(), horizontalalignment='center', fontsize=10)    "
   ]
  },
  {
   "cell_type": "markdown",
   "metadata": {},
   "source": [
    "## 12. Kolumna `property`"
   ]
  },
  {
   "cell_type": "markdown",
   "metadata": {},
   "source": [
    "Na kolumnie `property` zawarte są informacje o najdroższych posiadanych własnościach przez kredytobiorców. Znaczenie poszczególnych wartości:\n",
    "\n",
    "* **1** - nie wiadomo / brak własności,\n",
    "* **2** - samochód albo inne,\n",
    "* **3** - mieszkanie ze spółdzielni mieszkaniowej, umowa oszczędnościowa / ubezpieczenie na życie,\n",
    "* **4** - nieruchomość."
   ]
  },
  {
   "cell_type": "markdown",
   "metadata": {},
   "source": [
    "Wartości na tej kolumnie nie wymagają czyszczenia, ponieważ wszystkie należą do zbioru wyżej opisanych wartości:"
   ]
  },
  {
   "cell_type": "code",
   "execution_count": null,
   "metadata": {},
   "outputs": [],
   "source": [
    "np.logical_not(df['property'].isin([1, 2, 3, 4])).any()"
   ]
  },
  {
   "cell_type": "markdown",
   "metadata": {},
   "source": [
    "Analizując dane na kolumnie `property` można dojść do wniosku, że klienci, którzy posiadali nieruchomość mieli zazwyczaj mniejsze problemy ze spłatą zadłużenia."
   ]
  },
  {
   "cell_type": "code",
   "execution_count": null,
   "metadata": {},
   "outputs": [],
   "source": [
    "plt.figure(figsize=(7, 5))\n",
    "plot = sns.countplot(data=df, x='property', hue='credit_risk')\n",
    "plt.ylabel('Liczba przypadków')\n",
    "for rectangle in plot.patches:\n",
    "    plot.text(rectangle.get_x() + rectangle.get_width() / 2, rectangle.get_height() + 0.75, rectangle.get_height(), horizontalalignment='center', fontsize=10)    "
   ]
  },
  {
   "cell_type": "markdown",
   "metadata": {},
   "source": [
    "## 13. Kolumna `age`"
   ]
  },
  {
   "cell_type": "markdown",
   "metadata": {},
   "source": [
    "Na kolumnie `age` zawarte są informacje o wieku kredytobiorców."
   ]
  },
  {
   "cell_type": "markdown",
   "metadata": {},
   "source": [
    "Poniżej przedstawiono histogram prezentujący informacje o liczbie kredytobiorców w danym wieku."
   ]
  },
  {
   "cell_type": "code",
   "execution_count": null,
   "metadata": {},
   "outputs": [],
   "source": [
    "plt.figure(figsize=(7, 5))\n",
    "plt.title('Histogram przedstawiający wiek kredytobiorców')\n",
    "plt.xlabel('Wiek')\n",
    "plt.ylabel('Liczba kredytobiorców')\n",
    "plt.hist(df['age'])\n",
    "plt.show()"
   ]
  },
  {
   "cell_type": "markdown",
   "metadata": {},
   "source": [
    "Można zauważyć, że najczęściej kredytobiorcami były osoby w wieku 25-35 lat. Popularność kredytów wśród osób starszych niż 35 lat spada, aż do najmniejszej wartości dla osób w wieku powyżej 70 lat."
   ]
  },
  {
   "cell_type": "markdown",
   "metadata": {},
   "source": [
    "## 14. Kolumna `other_installment_plans`"
   ]
  },
  {
   "cell_type": "markdown",
   "metadata": {},
   "source": [
    "Na kolumnie `other_installment_plans` zawarte są informacje o innych zobowiązaniach kredytowych klientów. Znaczenie poszczególnych wartości:\n",
    "\n",
    "* **1** - bank,\n",
    "* **2** - sklep,\n",
    "* **3** - brak."
   ]
  },
  {
   "cell_type": "markdown",
   "metadata": {},
   "source": [
    "Wartości na tej kolumnie nie wymagają czyszczenia, ponieważ wszystkie należą do zbioru wyżej opisanych wartości:"
   ]
  },
  {
   "cell_type": "code",
   "execution_count": null,
   "metadata": {},
   "outputs": [],
   "source": [
    "np.logical_not(df['other_installment_plans'].isin([1, 2, 3])).any()"
   ]
  },
  {
   "cell_type": "markdown",
   "metadata": {},
   "source": [
    "Po analizie danych na kolumnie `other_installment_plans` okazuje się, że posiadanie innych zobowiązań kredytowych często nie jest równoznaczne z problemami ze spłatą kredytu przez klientów. Problem ze spłatą kredytów znacznie częściej występował wśród klientów, którzy nie mieli innych zobowiązań."
   ]
  },
  {
   "cell_type": "code",
   "execution_count": null,
   "metadata": {},
   "outputs": [],
   "source": [
    "plt.figure(figsize=(7, 5))\n",
    "plot = sns.countplot(data=df, x='other_installment_plans', hue='credit_risk')\n",
    "plt.ylabel('Liczba przypadków')\n",
    "for rectangle in plot.patches:\n",
    "    plot.text(rectangle.get_x() + rectangle.get_width() / 2, rectangle.get_height() + 0.75, rectangle.get_height(), horizontalalignment='center', fontsize=10)    "
   ]
  },
  {
   "cell_type": "markdown",
   "metadata": {},
   "source": [
    "## 15. Kolumna `housing`"
   ]
  },
  {
   "cell_type": "markdown",
   "metadata": {},
   "source": [
    "Na kolumnie `housing` zawarte są informacje o rodzaju zakwaterowania kredytobiorców. Znaczenie poszczególnych wartości:\n",
    "\n",
    "* **1** - mieszkanie za darmo,\n",
    "* **2** - mieszkanie wynajmowane,\n",
    "* **3** - mieszkanie własnościowe."
   ]
  },
  {
   "cell_type": "markdown",
   "metadata": {},
   "source": [
    "Wartości na tej kolumnie nie wymagają czyszczenia, ponieważ wszystkie należą do zbioru wyżej opisanych wartości:"
   ]
  },
  {
   "cell_type": "code",
   "execution_count": null,
   "metadata": {},
   "outputs": [],
   "source": [
    "np.logical_not(df['housing'].isin([1, 2, 3])).any()"
   ]
  },
  {
   "cell_type": "markdown",
   "metadata": {},
   "source": [
    "Analiza wartości na kolumnie `housing` doprowadziła do powstania następującego wniosku: klienci, którzy wynajmowali mieszkanie mieli zazwyczaj większe problemy ze spłatą kredytu niż ci, którzy mieli mieszkanie własnościowe albo mieszkali za darmo."
   ]
  },
  {
   "cell_type": "code",
   "execution_count": null,
   "metadata": {},
   "outputs": [],
   "source": [
    "plt.figure(figsize=(7, 5))\n",
    "plot = sns.countplot(data=df, x='housing', hue='credit_risk')\n",
    "plt.ylabel('Liczba przypadków')\n",
    "for rectangle in plot.patches:\n",
    "    plot.text(rectangle.get_x() + rectangle.get_width() / 2, rectangle.get_height() + 0.75, rectangle.get_height(), horizontalalignment='center', fontsize=10)    "
   ]
  },
  {
   "cell_type": "markdown",
   "metadata": {},
   "source": [
    "## 16. Kolumna `number_credits`"
   ]
  },
  {
   "cell_type": "markdown",
   "metadata": {},
   "source": [
    "Na kolumnie `number_credits` zawarte są informacje o liczbie zadłużeń kredytobiorców (wraz z tym kredytem) w tym banku. Znaczenie poszczególnych wartości:\n",
    "\n",
    "* **1** - 1,\n",
    "* **2** - 2-3,\n",
    "* **3** - 4-5,\n",
    "* **4** - więcej niż 5."
   ]
  },
  {
   "cell_type": "markdown",
   "metadata": {},
   "source": [
    "Wartości na tej kolumnie nie wymagają czyszczenia, ponieważ wszystkie należą do zbioru wyżej opisanych wartości:"
   ]
  },
  {
   "cell_type": "code",
   "execution_count": null,
   "metadata": {},
   "outputs": [],
   "source": [
    "np.logical_not(df['number_credits'].isin([1, 2, 3, 4])).any()"
   ]
  },
  {
   "cell_type": "markdown",
   "metadata": {},
   "source": [
    "Po analizie wartości na kolumnie `number_credits` można wywnioskować, że największe problemy występowały z klientami, którzy brali swój pierwszy albo drugi kredyt. W przypadku kolejnych kredytów problemy były raczej wyjątkową sytuacją, chociaż należy przy tym wniosku uwzględnić, że w zbiorze jest mało danych na temat takich klientów."
   ]
  },
  {
   "cell_type": "code",
   "execution_count": null,
   "metadata": {},
   "outputs": [],
   "source": [
    "plt.figure(figsize=(7, 5))\n",
    "plot = sns.countplot(data=df, x='number_credits', hue='credit_risk')\n",
    "plt.ylabel('Liczba przypadków')\n",
    "for rectangle in plot.patches:\n",
    "    plot.text(rectangle.get_x() + rectangle.get_width() / 2, rectangle.get_height() + 0.75, rectangle.get_height(), horizontalalignment='center', fontsize=10)    "
   ]
  },
  {
   "cell_type": "markdown",
   "metadata": {},
   "source": [
    "## 17. Kolumna `job`"
   ]
  },
  {
   "cell_type": "markdown",
   "metadata": {},
   "source": [
    "Na kolumnie `job` zawarte są informacje o zatrudnieniu kredytobiorców. Znaczenie poszczególnych wartości:\n",
    "\n",
    "* **1** - niezatrudniony / niewykwalifikowany - zamiejscowy,\n",
    "* **2** - niewykwalifikowany - miejscowy,\n",
    "* **3** - wykwalifikowany pracownik / urzędnik,                 \n",
    "* **4** - menadżer / samozatrudniony / wysoko wykwalifikowany pracownik."
   ]
  },
  {
   "cell_type": "markdown",
   "metadata": {},
   "source": [
    "Wartości na tej kolumnie nie wymagają czyszczenia, ponieważ wszystkie należą do zbioru wyżej opisanych wartości:"
   ]
  },
  {
   "cell_type": "code",
   "execution_count": null,
   "metadata": {},
   "outputs": [],
   "source": [
    "np.logical_not(df['job'].isin([1, 2, 3, 4])).any()"
   ]
  },
  {
   "cell_type": "markdown",
   "metadata": {},
   "source": [
    "Po analizie danych na kolumnie `job` zauważono, że najczęściej problemy ze spłatą zadłużenia mieli pracownicy wykwalifikowani i urzędnicy. Sytuacja wygląda trochę lepiej w przypadku klientów niewykwalifikowanych oraz klientów, którzy byli samozatrudnieni, wysoko wykwalifikowani albo byli menadżerami."
   ]
  },
  {
   "cell_type": "code",
   "execution_count": null,
   "metadata": {},
   "outputs": [],
   "source": [
    "plt.figure(figsize=(7, 5))\n",
    "plot = sns.countplot(data=df, x='job', hue='credit_risk')\n",
    "plt.ylabel('Liczba przypadków')\n",
    "for rectangle in plot.patches:\n",
    "    plot.text(rectangle.get_x() + rectangle.get_width() / 2, rectangle.get_height() + 0.75, rectangle.get_height(), horizontalalignment='center', fontsize=10)    "
   ]
  },
  {
   "cell_type": "markdown",
   "metadata": {},
   "source": [
    "## 18. Kolumna `people_liable`"
   ]
  },
  {
   "cell_type": "markdown",
   "metadata": {},
   "source": [
    "Na kolumnie `people_liable` zawarte są informacje o liczbie osób, które pozostają na utrzymaniu kredytobiorców. Znaczenie poszczególnych wartości:\n",
    "\n",
    "* **1** - trzy lub więcej osób,\n",
    "* **2** - od zera do dwóch osób."
   ]
  },
  {
   "cell_type": "markdown",
   "metadata": {},
   "source": [
    "Wartości na tej kolumnie nie wymagają czyszczenia, ponieważ wszystkie należą do zbioru wyżej opisanych wartości:"
   ]
  },
  {
   "cell_type": "code",
   "execution_count": null,
   "metadata": {},
   "outputs": [],
   "source": [
    "np.logical_not(df['people_liable'].isin([1, 2])).any()"
   ]
  },
  {
   "cell_type": "markdown",
   "metadata": {},
   "source": [
    "Po przeanalizowaniu danych na kolumnie `people_liable` okazało się, że klienci, którzy na swoim utrzymaniu mieli trzy lub więcej osób mieli mniejsze problemy ze spłatą zadłużenia niż klienci, którzy mieli od zera do dwóch osób na utrzymaniu."
   ]
  },
  {
   "cell_type": "code",
   "execution_count": null,
   "metadata": {},
   "outputs": [],
   "source": [
    "plt.figure(figsize=(7, 5))\n",
    "plot = sns.countplot(data=df, x='people_liable', hue='credit_risk')\n",
    "plt.ylabel('Liczba przypadków')\n",
    "for rectangle in plot.patches:\n",
    "    plot.text(rectangle.get_x() + rectangle.get_width() / 2, rectangle.get_height() + 0.75, rectangle.get_height(), horizontalalignment='center', fontsize=10)    "
   ]
  },
  {
   "cell_type": "markdown",
   "metadata": {},
   "source": [
    "## 19. Kolumna `telephone`"
   ]
  },
  {
   "cell_type": "markdown",
   "metadata": {},
   "source": [
    "Na kolumnie `telephone` zawarte są informacje o tym, czy na kredytobiorcę jest zarejestrowany telefon stacjonarny. Znaczenie poszczególnych wartości:\n",
    "\n",
    "* **1** - nie,                       \n",
    "* **2** - tak."
   ]
  },
  {
   "cell_type": "markdown",
   "metadata": {},
   "source": [
    "Wartości na tej kolumnie nie wymagają czyszczenia, ponieważ wszystkie należą do zbioru wyżej opisanych wartości:"
   ]
  },
  {
   "cell_type": "code",
   "execution_count": null,
   "metadata": {},
   "outputs": [],
   "source": [
    "np.logical_not(df['telephone'].isin([1, 2])).any()"
   ]
  },
  {
   "cell_type": "markdown",
   "metadata": {},
   "source": [
    "Analiza wartości na kolumnie `telephone` doprowadziła do powstania następującego wniosku: klienci, którzy posiadali telefon stacjonarny mieli zazwyczaj większe problemy ze spłatą kredytu niż ci klienci, którzy nie mieli tego telefonu (wynika to prawdopodobnie z opłat z ten telefon)."
   ]
  },
  {
   "cell_type": "code",
   "execution_count": null,
   "metadata": {},
   "outputs": [],
   "source": [
    "plt.figure(figsize=(7, 5))\n",
    "plot = sns.countplot(data=df, x='people_liable', hue='credit_risk')\n",
    "plt.ylabel('Liczba przypadków')\n",
    "for rectangle in plot.patches:\n",
    "    plot.text(rectangle.get_x() + rectangle.get_width() / 2, rectangle.get_height() + 0.75, rectangle.get_height(), horizontalalignment='center', fontsize=10)    "
   ]
  },
  {
   "cell_type": "markdown",
   "metadata": {},
   "source": [
    "## 20. Kolumna `foreign_worker`"
   ]
  },
  {
   "cell_type": "markdown",
   "metadata": {},
   "source": [
    "Na kolumnie `foreign_worker` zawarte są informacje o tym, czy kredytobiorca pracuje za granicą. Znaczenie poszczególnych wartości:\n",
    "\n",
    "* **1** - tak,\n",
    "* **2** - nie."
   ]
  },
  {
   "cell_type": "markdown",
   "metadata": {},
   "source": [
    "Wartości na tej kolumnie nie wymagają czyszczenia, ponieważ wszystkie należą do zbioru wyżej opisanych wartości:"
   ]
  },
  {
   "cell_type": "code",
   "execution_count": null,
   "metadata": {},
   "outputs": [],
   "source": [
    "np.logical_not(df['foreign_worker'].isin([1, 2])).any()"
   ]
  },
  {
   "cell_type": "markdown",
   "metadata": {},
   "source": [
    "Z analizy wartości na kolumnie `foreign_worker` wynika, że przypadków klientów, którzy pracowali za granicą i mieli problemy ze spłatą kredytu było bardzo mało, bo tylko 33 na 1000 przypadków. Zazwyczaj problemy ze spłatą kredytu mieli klienci, którzy nie pracowali za granicą."
   ]
  },
  {
   "cell_type": "code",
   "execution_count": null,
   "metadata": {},
   "outputs": [],
   "source": [
    "plt.figure(figsize=(7, 5))\n",
    "plot = sns.countplot(data=df, x='foreign_worker', hue='credit_risk')\n",
    "plt.ylabel('Liczba przypadków')\n",
    "for rectangle in plot.patches:\n",
    "    plot.text(rectangle.get_x() + rectangle.get_width() / 2, rectangle.get_height() + 0.75, rectangle.get_height(), horizontalalignment='center', fontsize=10)    "
   ]
  },
  {
   "cell_type": "markdown",
   "metadata": {},
   "source": [
    "## 21. Kolumna `credit_risk`"
   ]
  },
  {
   "cell_type": "markdown",
   "metadata": {},
   "source": [
    "Na kolumnie `credit_risk` zawarto informację o tym, czy kredytobiorca przestrzegał umowy kredytowej czy też nie. Znaczenie poszczególnych wartości:\n",
    "\n",
    "* **0** - nie przestrzegał,\n",
    "* **1** - przestrzegał."
   ]
  },
  {
   "cell_type": "markdown",
   "metadata": {},
   "source": [
    "Wartości na tej kolumnie nie wymagają czyszczenia, ponieważ wszystkie należą do zbioru wyżej opisanych wartości:"
   ]
  },
  {
   "cell_type": "code",
   "execution_count": null,
   "metadata": {
    "scrolled": true
   },
   "outputs": [],
   "source": [
    "np.logical_not(df['credit_risk'].isin([0, 1])).any()"
   ]
  },
  {
   "cell_type": "markdown",
   "metadata": {},
   "source": [
    "Poniżej dostępny jest interaktywny wykres, gdzie można sprawdzić powiązanie pomiędzy wybraną kolumną, a ryzykiem kredytowym w sposób interaktywny."
   ]
  },
  {
   "cell_type": "code",
   "execution_count": null,
   "metadata": {
    "scrolled": false
   },
   "outputs": [],
   "source": [
    "color_schemas = {\n",
    "    'Plotly': px.colors.qualitative.Plotly,\n",
    "    'Antique': px.colors.qualitative.Antique,\n",
    "    'Bold': px.colors.qualitative.Bold,\n",
    "    'Set1': px.colors.qualitative.Set1,\n",
    "    'Vivid': px.colors.qualitative.Vivid,\n",
    "}\n",
    "\n",
    "app = JupyterDash(__name__)\n",
    "app.layout = html.Div([\n",
    "    html.H1('Związek wybranej kolumny z ryzykiem kredytowym'),\n",
    "    daq.BooleanSwitch(\n",
    "        id='barmode-switch',\n",
    "        on=True,\n",
    "        label='Grupowanie wartości',\n",
    "        labelPosition='bottom'\n",
    "    ),\n",
    "    html.Label([\n",
    "        'Kolumna:',\n",
    "        dcc.Dropdown(\n",
    "            id='column-dropdown',\n",
    "            clearable=False,\n",
    "            value='status',\n",
    "            options=[\n",
    "                {'label': x, 'value': x}\n",
    "                for x in ['status', 'credit_history', 'purpose', 'savings', 'employment_duration', 'installment_rate', 'personal_status_sex', 'other_debtors', 'present_residence', 'property', 'other_installment_plans', 'housing', 'number_credits', 'job', 'people_liable', 'telephone', 'foreign_worker']\n",
    "            ])\n",
    "    ]),\n",
    "    html.Label([\n",
    "        'Schemat kolorów:',\n",
    "        dcc.RadioItems(\n",
    "            id='color-schema-radio',\n",
    "            options=[\n",
    "                {'label': x, 'value': x}\n",
    "                for x in color_schemas.keys()\n",
    "            ],\n",
    "            value='Plotly'\n",
    "        )\n",
    "    ]),\n",
    "    dcc.Graph(id='graph')\n",
    "])\n",
    "\n",
    "@app.callback(\n",
    "    Output('graph', 'figure'),\n",
    "    [\n",
    "        Input('barmode-switch', 'on'),\n",
    "        Input('column-dropdown', 'value'),\n",
    "        Input('color-schema-radio', 'value')\n",
    "    ]\n",
    ")\n",
    "def update_figure(barmode_switch, column, color_schema):\n",
    "    histogram = px.histogram(\n",
    "        df,\n",
    "        x='credit_risk',\n",
    "        color=column,\n",
    "        barmode='group' if barmode_switch else 'relative',\n",
    "        color_discrete_sequence=color_schemas[color_schema]\n",
    "    )\n",
    "    histogram.update_layout(\n",
    "        xaxis_title='Ryzyko kredytowe',\n",
    "        yaxis_title='Liczba przypadków',\n",
    "        xaxis = dict(\n",
    "            tickmode = 'array',\n",
    "            tickvals = [0, 1],\n",
    "            ticktext = ['Występuje', 'Nie występuje']\n",
    "        )\n",
    "    )\n",
    "    \n",
    "    return histogram\n",
    "\n",
    "app.run_server(mode='inline')"
   ]
  },
  {
   "cell_type": "markdown",
   "metadata": {},
   "source": [
    "# Zastosowanie algorytmów uczenia maszynowego do zadania klasyfikacji"
   ]
  },
  {
   "cell_type": "markdown",
   "metadata": {},
   "source": [
    "Zastosowano trzy algorytmy uczenia maszynowego: naiwny klasyfikator Bayesa, drzewo decyzyjne oraz klasyfikator *k*-NN. Wszystkie trzy modele utworzone za pomocą wcześniej wymienionych algorytmów zostały wytrenowane na tych samych zbiorach treningowych i testowych (proporcje zbioru treningowego do testowego to 70:30)."
   ]
  },
  {
   "cell_type": "code",
   "execution_count": null,
   "metadata": {},
   "outputs": [],
   "source": [
    "X = df.drop('credit_risk', axis=1)\n",
    "y = df['credit_risk']\n",
    "\n",
    "X_train, X_test, y_train, y_test = train_test_split(X, y, test_size=0.3, random_state=100)"
   ]
  },
  {
   "cell_type": "markdown",
   "metadata": {},
   "source": [
    "## 1. Naiwny klasyfikator Bayesa"
   ]
  },
  {
   "cell_type": "markdown",
   "metadata": {},
   "source": [
    "Model został stworzony z domyślnymi parametrami."
   ]
  },
  {
   "cell_type": "code",
   "execution_count": null,
   "metadata": {},
   "outputs": [],
   "source": [
    "gnb_model = GaussianNB()\n",
    "gnb_model.fit(X, y)\n",
    "gnb_y_predictions = gnb_model.predict(X_test)\n",
    "\n",
    "print(classification_report(y_test, gnb_y_predictions))\n",
    "print('Accuracy: {:.2f}'.format(accuracy_score(y_test, gnb_y_predictions)))"
   ]
  },
  {
   "cell_type": "markdown",
   "metadata": {},
   "source": [
    "Otrzymany model, w postaci naiwnego klasyfikatora Bayesa, uzyskał dokładność na poziomie *0.76*."
   ]
  },
  {
   "cell_type": "markdown",
   "metadata": {},
   "source": [
    "## 2. Drzewo decyzyjne"
   ]
  },
  {
   "cell_type": "markdown",
   "metadata": {},
   "source": [
    "Model został stworzony z następującymi parametrami:\n",
    "\n",
    "* podział metodą entropii,\n",
    "* maksymalna głębokość drzewa to 4."
   ]
  },
  {
   "cell_type": "code",
   "execution_count": null,
   "metadata": {},
   "outputs": [],
   "source": [
    "dtc_model = DecisionTreeClassifier(criterion=\"entropy\", max_depth=4)\n",
    "dtc_model.fit(X_train, y_train)\n",
    "dtc_y_predictions = dtc_model.predict(X_test)\n",
    "\n",
    "print(classification_report(y_test, dtc_y_predictions))\n",
    "print('Accuracy: {:.2f}'.format(accuracy_score(y_test, dtc_y_predictions)))"
   ]
  },
  {
   "cell_type": "markdown",
   "metadata": {},
   "source": [
    "Otrzymany model, w postaci drzewa decyzyjnego, uzyskał dokładność na poziomie *0.72*."
   ]
  },
  {
   "cell_type": "markdown",
   "metadata": {},
   "source": [
    "## 3. Klasyfikator *k*-NN"
   ]
  },
  {
   "cell_type": "markdown",
   "metadata": {},
   "source": [
    "Model został stworzony z parametrem *n* o wartości 8."
   ]
  },
  {
   "cell_type": "code",
   "execution_count": null,
   "metadata": {},
   "outputs": [],
   "source": [
    "knn_model = KNeighborsClassifier(n_neighbors=8)\n",
    "knn_model.fit(X_train, y_train)\n",
    "knn_y_predictions = knn_model.predict(X_test)\n",
    "\n",
    "print(classification_report(y_test, knn_y_predictions))\n",
    "print('Accuracy: {:.2f}'.format(accuracy_score(y_test, knn_y_predictions)))"
   ]
  },
  {
   "cell_type": "markdown",
   "metadata": {},
   "source": [
    "Otrzymany model, w postaci klasyfikatora *k*-NN, uzyskał dokładność na poziomie *0.68*."
   ]
  },
  {
   "cell_type": "markdown",
   "metadata": {},
   "source": [
    "# Podsumowanie"
   ]
  },
  {
   "cell_type": "markdown",
   "metadata": {},
   "source": [
    "W niniejszym projekcie dokonano analizy zbioru, który zawiera dane na temat klientów banku i udzielanych im kredytów. Dane zawarte na poszczególnych kolumnach zostały opisane i przeanalizowane pod względem powiązań z ryzykiem kredytowym. Przeprowadzona analiza doprowadziła na powstania następujących wniosków:\n",
    "\n",
    "1. Im więcej pieniędzy na koncie rozliczeniowym posiadał klient, tym większe prawdopodobieństwo, że wystąpią problemy ze spłatą zadłużenia.\n",
    "2. Najpopularniejszym wyborem było zadłużenie się na czas do 12 miesięcy. Im dłuższy czas spłaty zobowiązania tym mniejsze zainteresowanie kredytobiorców.\n",
    "3. Największe problemy ze spłatą kredytu mieli klienci, którzy wcześniej nie zaciągali kredytów.\n",
    "4. Trzema najczęstszymi powodami zaciągnięcia kredytu były: kupno mebli/wyposażenia, kupno samochodu używanego oraz inne. Trzema najrzadszymi powodami zaciągnięcia kredytu były: wakacje, kupno radia/telewizora oraz biznes.\n",
    "5. Najwięcej kredytów udzielono na kwoty do ok. 2500 DM, popularne były także kredyty powyżej ok. 2500 DM do ok. 5000 DM. Wyższe kwoty były zdecydowanie mniej popularne.\n",
    "6. Największe problemy ze spłatą zadłużenia mieli klienci, którzy nie mieli żadnych oszczędności.\n",
    "7. Największe problemy ze spłatą zadłużenia mieli klienci, którzy pracowali u ówczesnego pracodawcy od roku do 4 lat.\n",
    "8. Największe problemy ze spłatą zadłużenia mieli klienci, u których miesięczna rata kredytu stanowiła mniej niż 20% pensji. U klientów, gdzie rata kredytu stanowiła więcej niż 20% pensji występowały mniejsze problemy ze spłatą zadłużenia.\n",
    "9. Największe problemy ze spłatą zadłużenia mieli mężczyźni, którzy byli żonaci albo byli wdowcami.\n",
    "10. Można zauważyć, że większość kredytów była związana z tylko jedną osobą (bez współwnioskodawców czy żyrantów).\n",
    "11. Im dłużej klient mieszkał w swoim miejscu zamieszkania, tym większe było prawdopodobieństwo problemów ze spłatą zadłużenia.\n",
    "12. Klienci, którzy posiadali nieruchomość mieli zazwyczaj mniejsze problemy ze spłatą zadłużenia.\n",
    "13. Najczęściej kredytobiorcami były osoby w wieku 25-35 lat. Popularność kredytów wśród osób starszych niż 35 lat spada, aż do najmniejszej wartości dla osób w wieku powyżej 70 lat.\n",
    "14. Okazuje się, że posiadanie innych zobowiązań kredytowych często nie było równoznaczne z problemami ze spłatą kredytu przez klientów.\n",
    "15. Klienci, którzy wynajmowali mieszkanie mieli zazwyczaj większe problemy ze spłatą kredytu niż ci, którzy mieli mieszkanie własnościowe albo mieszkali za darmo.\n",
    "16. Największe problemy występowały z klientami, którzy brali swój pierwszy albo drugi kredyt.\n",
    "17. Najczęściej problemy ze spłatą zadłużenia mieli pracownicy wykwalifikowani i urzędnicy.\n",
    "18. Klienci, którzy na swoim utrzymaniu mieli trzy lub więcej osób mieli mniejsze problemy ze spłatą zadłużenia niż klienci, którzy mieli od zera do dwóch osób na utrzymaniu.\n",
    "19. Klienci, którzy posiadali telefon stacjonarny mieli zazwyczaj większe problemy ze spłatą kredytu niż ci klienci, którzy nie mieli tego telefonu (wynika to prawdopodobnie z opłat z ten telefon).\n",
    "20. Przypadków klientów, którzy pracowali za granicą i mieli problemy ze spłatą kredytu było bardzo mało. Problemy występowały głównie z klientami nie pracującymi za granicą.\n",
    "\n",
    "Stworzono także trzy klasyfikatory za pomocą algorytmów: naiwny klasyfikator Bayesa, drzewo decyzyjne oraz klasyfikator *k*-NN. Średnia jakość klasyfikacji otrzymanych klasyfikatorów wyniosła *0.72*."
   ]
  }
 ],
 "metadata": {
  "kernelspec": {
   "display_name": "Python 3",
   "language": "python",
   "name": "python3"
  },
  "language_info": {
   "codemirror_mode": {
    "name": "ipython",
    "version": 3
   },
   "file_extension": ".py",
   "mimetype": "text/x-python",
   "name": "python",
   "nbconvert_exporter": "python",
   "pygments_lexer": "ipython3",
   "version": "3.8.5"
  }
 },
 "nbformat": 4,
 "nbformat_minor": 4
}
